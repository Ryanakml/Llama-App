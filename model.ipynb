{
 "cells": [
  {
   "cell_type": "code",
   "execution_count": 2,
   "metadata": {},
   "outputs": [
    {
     "name": "stdout",
     "output_type": "stream",
     "text": [
      "Collecting numpy\n",
      "  Using cached numpy-2.2.6-cp313-cp313-macosx_14_0_arm64.whl.metadata (62 kB)\n",
      "Collecting pandas\n",
      "  Downloading pandas-2.3.0.tar.gz (4.5 MB)\n",
      "\u001b[2K     \u001b[90m━━━━━━━━━━━━━━━━━━━━━━━━━━━━━━━━━━━━━━━━\u001b[0m \u001b[32m4.5/4.5 MB\u001b[0m \u001b[31m5.4 MB/s\u001b[0m eta \u001b[36m0:00:00\u001b[0ma \u001b[36m0:00:01\u001b[0m\n",
      "\u001b[?25h  Installing build dependencies ... \u001b[?25ldone\n",
      "\u001b[?25h  Getting requirements to build wheel ... \u001b[?25ldone\n",
      "\u001b[?25h  Installing backend dependencies ... \u001b[?25ldone\n",
      "\u001b[?25h  Preparing metadata (pyproject.toml) ... \u001b[?25ldone\n",
      "\u001b[?25hCollecting matplotlib\n",
      "  Using cached matplotlib-3.10.3-cp313-cp313-macosx_11_0_arm64.whl.metadata (11 kB)\n",
      "Requirement already satisfied: python-dateutil>=2.8.2 in ./myenv/lib/python3.13/site-packages (from pandas) (2.9.0.post0)\n",
      "Collecting pytz>=2020.1 (from pandas)\n",
      "  Using cached pytz-2025.2-py2.py3-none-any.whl.metadata (22 kB)\n",
      "Collecting tzdata>=2022.7 (from pandas)\n",
      "  Using cached tzdata-2025.2-py2.py3-none-any.whl.metadata (1.4 kB)\n",
      "Collecting contourpy>=1.0.1 (from matplotlib)\n",
      "  Using cached contourpy-1.3.2-cp313-cp313-macosx_11_0_arm64.whl.metadata (5.5 kB)\n",
      "Collecting cycler>=0.10 (from matplotlib)\n",
      "  Using cached cycler-0.12.1-py3-none-any.whl.metadata (3.8 kB)\n",
      "Collecting fonttools>=4.22.0 (from matplotlib)\n",
      "  Downloading fonttools-4.58.1-cp313-cp313-macosx_10_13_universal2.whl.metadata (106 kB)\n",
      "Collecting kiwisolver>=1.3.1 (from matplotlib)\n",
      "  Using cached kiwisolver-1.4.8-cp313-cp313-macosx_11_0_arm64.whl.metadata (6.2 kB)\n",
      "Requirement already satisfied: packaging>=20.0 in ./myenv/lib/python3.13/site-packages (from matplotlib) (25.0)\n",
      "Collecting pillow>=8 (from matplotlib)\n",
      "  Using cached pillow-11.2.1-cp313-cp313-macosx_11_0_arm64.whl.metadata (8.9 kB)\n",
      "Collecting pyparsing>=2.3.1 (from matplotlib)\n",
      "  Using cached pyparsing-3.2.3-py3-none-any.whl.metadata (5.0 kB)\n",
      "Requirement already satisfied: six>=1.5 in ./myenv/lib/python3.13/site-packages (from python-dateutil>=2.8.2->pandas) (1.17.0)\n",
      "Using cached numpy-2.2.6-cp313-cp313-macosx_14_0_arm64.whl (5.1 MB)\n",
      "Using cached matplotlib-3.10.3-cp313-cp313-macosx_11_0_arm64.whl (8.1 MB)\n",
      "Using cached contourpy-1.3.2-cp313-cp313-macosx_11_0_arm64.whl (255 kB)\n",
      "Using cached cycler-0.12.1-py3-none-any.whl (8.3 kB)\n",
      "Downloading fonttools-4.58.1-cp313-cp313-macosx_10_13_universal2.whl (2.7 MB)\n",
      "\u001b[2K   \u001b[90m━━━━━━━━━━━━━━━━━━━━━━━━━━━━━━━━━━━━━━━━\u001b[0m \u001b[32m2.7/2.7 MB\u001b[0m \u001b[31m5.6 MB/s\u001b[0m eta \u001b[36m0:00:00\u001b[0ma \u001b[36m0:00:01\u001b[0m\n",
      "\u001b[?25hUsing cached kiwisolver-1.4.8-cp313-cp313-macosx_11_0_arm64.whl (65 kB)\n",
      "Using cached pillow-11.2.1-cp313-cp313-macosx_11_0_arm64.whl (3.0 MB)\n",
      "Using cached pyparsing-3.2.3-py3-none-any.whl (111 kB)\n",
      "Using cached pytz-2025.2-py2.py3-none-any.whl (509 kB)\n",
      "Using cached tzdata-2025.2-py2.py3-none-any.whl (347 kB)\n",
      "Building wheels for collected packages: pandas\n",
      "  Building wheel for pandas (pyproject.toml) ... \u001b[?25ldone\n",
      "\u001b[?25h  Created wheel for pandas: filename=pandas-2.3.0-cp313-cp313-macosx_14_0_arm64.whl size=10602120 sha256=d99b7242c43e94ad2df22dacda85cac5ba07d361a46b8010afd224d776f15c88\n",
      "  Stored in directory: /Users/ryanakmalpasya/Library/Caches/pip/wheels/14/ac/1d/a5549e6f77c2e616c827851cb39f2a423b5837f9ce15e5526e\n",
      "Successfully built pandas\n",
      "Installing collected packages: pytz, tzdata, pyparsing, pillow, numpy, kiwisolver, fonttools, cycler, pandas, contourpy, matplotlib\n",
      "Successfully installed contourpy-1.3.2 cycler-0.12.1 fonttools-4.58.1 kiwisolver-1.4.8 matplotlib-3.10.3 numpy-2.2.6 pandas-2.3.0 pillow-11.2.1 pyparsing-3.2.3 pytz-2025.2 tzdata-2025.2\n",
      "\n",
      "\u001b[1m[\u001b[0m\u001b[34;49mnotice\u001b[0m\u001b[1;39;49m]\u001b[0m\u001b[39;49m A new release of pip is available: \u001b[0m\u001b[31;49m25.0.1\u001b[0m\u001b[39;49m -> \u001b[0m\u001b[32;49m25.1.1\u001b[0m\n",
      "\u001b[1m[\u001b[0m\u001b[34;49mnotice\u001b[0m\u001b[1;39;49m]\u001b[0m\u001b[39;49m To update, run: \u001b[0m\u001b[32;49mpip install --upgrade pip\u001b[0m\n"
     ]
    }
   ],
   "source": [
    "!pip install numpy pandas matplotlib"
   ]
  },
  {
   "cell_type": "code",
   "execution_count": 3,
   "metadata": {},
   "outputs": [],
   "source": [
    "import numpy as np\n",
    "import pandas as pd\n",
    "import re\n",
    "from typing import List, Tuple, Dict, Optional\n",
    "import math\n",
    "import matplotlib.pyplot as plt"
   ]
  },
  {
   "cell_type": "markdown",
   "metadata": {},
   "source": [
    "### Load Datasets"
   ]
  },
  {
   "cell_type": "code",
   "execution_count": 4,
   "metadata": {},
   "outputs": [
    {
     "name": "stdout",
     "output_type": "stream",
     "text": [
      "Raw text loaded, total characters: 1052958\n",
      "Sample text: \n",
      "YMCA in South Australia\n",
      "South Australia (SA)  has a unique position in Australia's history as, unlike the other states which were founded as colonies, South Australia began as a self governing provinc...\n"
     ]
    }
   ],
   "source": [
    "with open('input.txt', 'r', encoding='utf-8') as f:\n",
    "    raw_text = f.read()\n",
    "\n",
    "print(f\"Raw text loaded, total characters: {len(raw_text)}\")\n",
    "print(f\"Sample text: \\n{raw_text[:200]}...\")"
   ]
  },
  {
   "cell_type": "markdown",
   "metadata": {},
   "source": [
    "### Preprocessing Text data"
   ]
  },
  {
   "cell_type": "code",
   "execution_count": 6,
   "metadata": {},
   "outputs": [
    {
     "name": "stdout",
     "output_type": "stream",
     "text": [
      "Cleaned text length: 5000\n",
      "Sample cleaned text:\n",
      "ymca in south australia south australia sa has a unique position in australias history as, unlike the other states which were founded as colonies, south australia began as a self governing province ma...\n"
     ]
    }
   ],
   "source": [
    "def clean_text(text):\n",
    "    text = text.lower()\n",
    "    text = re.sub(r\"[^\\w\\s.,!?;:-]\", \"\", text)\n",
    "    text = re.sub(r\"\\s+\", \" \", text)\n",
    "    return text.strip()\n",
    "\n",
    "cleaned_text = clean_text(raw_text)\n",
    "\n",
    "cleaned_text = cleaned_text[:5000]\n",
    "print(f\"Cleaned text length: {len(cleaned_text)}\")\n",
    "print(f\"Sample cleaned text:\\n{cleaned_text[:200]}...\")"
   ]
  },
  {
   "cell_type": "markdown",
   "metadata": {},
   "source": [
    "### Split into sentences"
   ]
  },
  {
   "cell_type": "code",
   "execution_count": 7,
   "metadata": {},
   "outputs": [
    {
     "name": "stdout",
     "output_type": "stream",
     "text": [
      "Total sentences: 41\n",
      "Average sentence length: 119.32 characters\n",
      "Sample sentences:\n",
      "  1: ymca in south australia south australia sa has a unique position in australias history as, unlike the other states which were founded as colonies, south australia began as a self governing province many were attracted to this and adelaide and sa developed as an independent and free thinking state\n",
      "  2: the compound of philosophical radicalism, evangelical religion and self reliant ability typical of its founders had given an equalitarian flavour to south australian thinking from the beginning\n",
      "  3: it was into this social setting that in february 1850 a meeting was called primarily for the formation of an association apparently meaning a y.m.c.a\n",
      "  4: for apprentices and others, after their days work, to enjoy books, lectures, discussions, readings, friendly relief and recreation for a leisure hour\n",
      "  5: in september 1850 records show that this became the young mens christian association of south australia as evidenced by a members letter in london y.m.c.a\n",
      "  6: report 1851\n",
      "  7: there was no census in 1850 but the 1851 census put the total population of south australia at 63,700 with males numbering 35,302\n",
      "  8: the discovery of gold in ballarat caused a large migration from south australia and by 1852 some 8000 had left for the goldfields\n",
      "  9: as a consequence the various ymca groups that had become established failed and by 1870 none remained\n",
      "  10: the next available authentic record of an association in south australia does not appear until some members of london y.m.c.a\n"
     ]
    }
   ],
   "source": [
    "sentences = []\n",
    "\n",
    "sentence_pattern = r'[.!?]+\\s+'\n",
    "raw_sentences = re.split(sentence_pattern, cleaned_text)\n",
    "\n",
    "for sent in raw_sentences:\n",
    "    sent = sent.strip()\n",
    "    if len(sent) > 10:\n",
    "        sentences.append(sent)\n",
    "\n",
    "print(f\"Total sentences: {len(sentences)}\")\n",
    "print(f\"Average sentence length: {np.mean([len(s) for s in sentences]):.2f} characters\")\n",
    "print(f\"Sample sentences:\")\n",
    "\n",
    "for i in range(10):\n",
    "    print(f\"  {i+1}: {sentences[i]}\")"
   ]
  },
  {
   "cell_type": "markdown",
   "metadata": {},
   "source": [
    "### Prepare data for BPE Tokenzier"
   ]
  },
  {
   "cell_type": "code",
   "execution_count": 8,
   "metadata": {},
   "outputs": [
    {
     "name": "stdout",
     "output_type": "stream",
     "text": [
      "Corpus size: 39 sentences\n",
      "Total words: 823\n",
      "Average sentence length: 21.10 words\n",
      "Sample sentences:\n",
      "  1: ymca in south australia south australia sa has a unique position in australias history as, unlike the other states which were founded as colonies, south australia began as a self governing province many were attracted to this and adelaide and sa developed as an independent and free thinking state\n",
      "  2: the compound of philosophical radicalism, evangelical religion and self reliant ability typical of its founders had given an equalitarian flavour to south australian thinking from the beginning\n",
      "  3: it was into this social setting that in february 1850 a meeting was called primarily for the formation of an association apparently meaning a y.m.c.a\n"
     ]
    }
   ],
   "source": [
    "# convert sentences to word list\n",
    "\n",
    "corpus = []\n",
    "for sentence in sentences:\n",
    "    word = sentence.split()\n",
    "    if len(word) > 1:\n",
    "        corpus.append(word)\n",
    "\n",
    "# remove very short or very long sentences for efficiency\n",
    "corpus = [sent for sent in corpus if 3 <= len(sent) <= 100]\n",
    "\n",
    "print(f\"Corpus size: {len(corpus)} sentences\")\n",
    "print(f\"Total words: {sum(len(sent) for sent in corpus)}\")\n",
    "print(f\"Average sentence length: {np.mean([len(sent) for sent in corpus]):.2f} words\")\n",
    "print(f\"Sample sentences:\")\n",
    "for i in range(3):\n",
    "\n",
    "    print(f\"  {i+1}: {' '.join(corpus[i])}\")"
   ]
  },
  {
   "cell_type": "markdown",
   "metadata": {},
   "source": [
    "### Build Vocab"
   ]
  },
  {
   "cell_type": "code",
   "execution_count": 9,
   "metadata": {},
   "outputs": [
    {
     "name": "stdout",
     "output_type": "stream",
     "text": [
      "Initial vocabulary size: 406\n",
      "Most frequent tokens: [(('t', 'h', 'e', '</w>'), 59), (('o', 'f', '</w>'), 38), (('a', 'n', 'd', '</w>'), 29), (('i', 'n', '</w>'), 27), (('a', '</w>'), 25)]\n"
     ]
    }
   ],
   "source": [
    "# get word tokens with f\n",
    "\n",
    "vocab_freq = {}\n",
    "for sentence in corpus:\n",
    "    for word in sentence:\n",
    "        chars = list(word) + [\"</w>\"]\n",
    "        token = tuple(chars)\n",
    "        vocab_freq[token] = vocab_freq.get(token, 0) + 1\n",
    "\n",
    "print(f\"Initial vocabulary size: {len(vocab_freq)}\")\n",
    "print(f\"Most frequent tokens: {sorted(vocab_freq.items(), key=lambda x: x[1], reverse=True)[:5]}\")"
   ]
  },
  {
   "cell_type": "markdown",
   "metadata": {},
   "source": [
    "### BPE Tokenizer Training"
   ]
  },
  {
   "cell_type": "code",
   "execution_count": 10,
   "metadata": {},
   "outputs": [
    {
     "name": "stdout",
     "output_type": "stream",
     "text": [
      "Merge step 0, vocab size: 406\n",
      "Merge step 200, vocab size: 406\n",
      "Merge step 400, vocab size: 406\n",
      "BPE training completed with 433 merges\n"
     ]
    }
   ],
   "source": [
    "def get_pairs(vocab):\n",
    "    pairs = {}\n",
    "    for word, freq in vocab.items():\n",
    "        for i in range(len(word) - 1):\n",
    "            pair = (word[i], word[i + 1])\n",
    "            pairs[pair] = pairs.get(pair, 0) + freq\n",
    "    return pairs\n",
    "\n",
    "def merge_vocab(pair, vocab):\n",
    "    new_vocab = {}\n",
    "    bigram = ''.join(pair)\n",
    "    \n",
    "    for word, freq in vocab.items():\n",
    "        new_word = []\n",
    "        i = 0\n",
    "        while i < len(word):\n",
    "            if i < len(word) - 1 and (word[i], word[i + 1]) == pair:\n",
    "                new_word.append(bigram)\n",
    "                i += 2\n",
    "            else:\n",
    "                new_word.append(word[i])\n",
    "                i += 1\n",
    "        new_vocab[tuple(new_word)] = freq\n",
    "    \n",
    "    return new_vocab\n",
    "\n",
    "# Train BPE with more merges for pretraining\n",
    "num_merges = 2000  # Increased for better subword representation\n",
    "merges = []\n",
    "current_vocab = vocab_freq.copy()\n",
    "\n",
    "for merge_step in range(num_merges):\n",
    "    pairs = get_pairs(current_vocab)\n",
    "    if not pairs:\n",
    "        break\n",
    "        \n",
    "    best_pair = max(pairs, key=pairs.get)\n",
    "    if pairs[best_pair] < 2:\n",
    "        break\n",
    "        \n",
    "    current_vocab = merge_vocab(best_pair, current_vocab)\n",
    "    merges.append(best_pair)\n",
    "    \n",
    "    if merge_step % 200 == 0:\n",
    "        print(f\"Merge step {merge_step}, vocab size: {len(current_vocab)}\")\n",
    "\n",
    "print(f\"BPE training completed with {len(merges)} merges\")"
   ]
  },
  {
   "cell_type": "markdown",
   "metadata": {},
   "source": [
    "### Create Final Vocabulary"
   ]
  },
  {
   "cell_type": "code",
   "execution_count": 11,
   "metadata": {},
   "outputs": [
    {
     "name": "stdout",
     "output_type": "stream",
     "text": [
      "Final vocabulary size: 391\n",
      "Special tokens: [UNK], [PAD], [BOS], [EOS], [MASK]\n"
     ]
    }
   ],
   "source": [
    "# Extract all unique tokens\n",
    "token_set = set()\n",
    "for word in current_vocab.keys():\n",
    "    for token in word:\n",
    "        token_set.add(token)\n",
    "\n",
    "# Create vocabulary mapping with special tokens for language modeling\n",
    "vocab = {token: idx for idx, token in enumerate(sorted(token_set))}\n",
    "vocab[\"[UNK]\"] = len(vocab)\n",
    "vocab[\"[PAD]\"] = len(vocab)\n",
    "vocab[\"[BOS]\"] = len(vocab)  # Beginning of sequence\n",
    "vocab[\"[EOS]\"] = len(vocab)  # End of sequence\n",
    "vocab[\"[MASK]\"] = len(vocab)  # For masked language modeling\n",
    "\n",
    "vocab_size = len(vocab)\n",
    "print(f\"Final vocabulary size: {vocab_size}\")\n",
    "print(f\"Special tokens: [UNK], [PAD], [BOS], [EOS], [MASK]\")"
   ]
  },
  {
   "cell_type": "markdown",
   "metadata": {},
   "source": [
    "### Encode Text Function"
   ]
  },
  {
   "cell_type": "code",
   "execution_count": 12,
   "metadata": {},
   "outputs": [],
   "source": [
    "def encode_word(word, vocab, merges):\n",
    "    tokens = list(word) + [\"</w>\"]\n",
    "    \n",
    "    # Apply learned merges\n",
    "    for pair in merges:\n",
    "        bigram = ''.join(pair)\n",
    "        new_tokens = []\n",
    "        i = 0\n",
    "        while i < len(tokens):\n",
    "            if i < len(tokens) - 1 and (tokens[i], tokens[i + 1]) == pair:\n",
    "                new_tokens.append(bigram)\n",
    "                i += 2\n",
    "            else:\n",
    "                new_tokens.append(tokens[i])\n",
    "                i += 1\n",
    "        tokens = new_tokens\n",
    "    \n",
    "    # Convert to IDs\n",
    "    token_ids = []\n",
    "    for token in tokens:\n",
    "        if token in vocab:\n",
    "            token_ids.append(vocab[token])\n",
    "        else:\n",
    "            for char in token:\n",
    "                token_ids.append(vocab.get(char, vocab[\"[UNK]\"]))\n",
    "    \n",
    "    return token_ids"
   ]
  },
  {
   "cell_type": "code",
   "execution_count": 13,
   "metadata": {},
   "outputs": [
    {
     "name": "stdout",
     "output_type": "stream",
     "text": [
      "Encoded corpus size: 39\n",
      "Sample encoded sentence: [388, 382, 190, 311, 77, 311, 77, 299, 176, 36, 348, 285, 122, 271, 248]...\n",
      "Average encoded length: 40.38\n"
     ]
    }
   ],
   "source": [
    "def encode_corpus_for_lm(corpus, vocab, merges):\n",
    "    \"\"\"Encode corpus for language modeling (with BOS/EOS tokens)\"\"\"\n",
    "    encoded = []\n",
    "    for sentence in corpus:\n",
    "        # Add BOS token at beginning, EOS at end\n",
    "        encoded_sentence = [vocab[\"[BOS]\"]]\n",
    "        for word in sentence:\n",
    "            encoded_sentence.extend(encode_word(word, vocab, merges))\n",
    "        encoded_sentence.append(vocab[\"[EOS]\"])\n",
    "        encoded.append(encoded_sentence)\n",
    "    return encoded\n",
    "\n",
    "# Encode the corpus\n",
    "encoded_corpus = encode_corpus_for_lm(corpus, vocab, merges)\n",
    "print(f\"Encoded corpus size: {len(encoded_corpus)}\")\n",
    "print(f\"Sample encoded sentence: {encoded_corpus[0][:15]}...\")\n",
    "print(f\"Average encoded length: {np.mean([len(sent) for sent in encoded_corpus]):.2f}\")"
   ]
  },
  {
   "cell_type": "markdown",
   "metadata": {},
   "source": [
    "### Prepare Training Data for Language Modeling"
   ]
  },
  {
   "cell_type": "code",
   "execution_count": 14,
   "metadata": {},
   "outputs": [
    {
     "name": "stdout",
     "output_type": "stream",
     "text": [
      "Training sequences created: 38\n",
      "Sample input: [388, 382, 190, 311, 77, 311, 77, 299, 176, 36]...\n",
      "Sample target: [382, 190, 311, 77, 311, 77, 299, 176, 36, 348]...\n"
     ]
    }
   ],
   "source": [
    "# For causal language modeling, we create input-target pairs\n",
    "# Input: [BOS, token1, token2, ..., tokenN]\n",
    "# Target: [token1, token2, ..., tokaenN, EOS]\n",
    "\n",
    "max_len = 128  # Maximum sequence length\n",
    "min_len = 10   # Minimum sequence length\n",
    "\n",
    "def create_lm_sequences(encoded_corpus, max_len, min_len):\n",
    "    sequences = []\n",
    "    targets = []\n",
    "    \n",
    "    for sentence in encoded_corpus:\n",
    "        if len(sentence) < min_len:\n",
    "            continue\n",
    "            \n",
    "        # If sentence is too long, split it into chunks\n",
    "        if len(sentence) > max_len:\n",
    "            for i in range(0, len(sentence) - max_len + 1, max_len // 2):\n",
    "                chunk = sentence[i:i + max_len]\n",
    "                if len(chunk) >= min_len:\n",
    "                    sequences.append(chunk[:-1])  # Input (without last token)\n",
    "                    targets.append(chunk[1:])     # Target (shifted by 1)\n",
    "        else:\n",
    "            sequences.append(sentence[:-1])  # Input (without EOS)\n",
    "            targets.append(sentence[1:])     # Target (without BOS)\n",
    "    \n",
    "    return sequences, targets\n",
    "\n",
    "input_sequences, target_sequences = create_lm_sequences(encoded_corpus, max_len, min_len)\n",
    "print(f\"Training sequences created: {len(input_sequences)}\")\n",
    "print(f\"Sample input: {input_sequences[0][:10]}...\")\n",
    "print(f\"Sample target: {target_sequences[0][:10]}...\")"
   ]
  },
  {
   "cell_type": "markdown",
   "metadata": {},
   "source": [
    "### Padding and Batching for Language Modelin"
   ]
  },
  {
   "cell_type": "code",
   "execution_count": 15,
   "metadata": {},
   "outputs": [
    {
     "name": "stdout",
     "output_type": "stream",
     "text": [
      "Padded inputs shape: (38, 128)\n",
      "Padded targets shape: (38, 128)\n",
      "Input masks shape: (38, 128)\n"
     ]
    }
   ],
   "source": [
    "def pad_sequences_lm(sequences, max_len, pad_value):\n",
    "    \"\"\"Pad sequences for language modeling\"\"\"\n",
    "    padded = []\n",
    "    attention_masks = []\n",
    "    \n",
    "    for seq in sequences:\n",
    "        if len(seq) > max_len:\n",
    "            seq = seq[:max_len]\n",
    "        \n",
    "        # Create attention mask (1 for real tokens, 0 for padding)\n",
    "        mask = [1] * len(seq) + [0] * (max_len - len(seq))\n",
    "        \n",
    "        # Pad sequence\n",
    "        padded_seq = seq + [pad_value] * (max_len - len(seq))\n",
    "        \n",
    "        padded.append(padded_seq)\n",
    "        attention_masks.append(mask)\n",
    "    \n",
    "    return np.array(padded), np.array(attention_masks)\n",
    "\n",
    "# Pad sequences\n",
    "padded_inputs, input_masks = pad_sequences_lm(input_sequences, max_len, vocab[\"[PAD]\"])\n",
    "padded_targets, target_masks = pad_sequences_lm(target_sequences, max_len, vocab[\"[PAD]\"])\n",
    "\n",
    "print(f\"Padded inputs shape: {padded_inputs.shape}\")\n",
    "print(f\"Padded targets shape: {padded_targets.shape}\")\n",
    "print(f\"Input masks shape: {input_masks.shape}\")"
   ]
  },
  {
   "cell_type": "markdown",
   "metadata": {},
   "source": [
    "### Model Hyperparameters for Language Modeling"
   ]
  },
  {
   "cell_type": "code",
   "execution_count": 16,
   "metadata": {},
   "outputs": [
    {
     "name": "stdout",
     "output_type": "stream",
     "text": [
      "Model Configuration for Language Modeling:\n",
      "- Vocabulary size: 391\n",
      "- Model dimension: 512\n",
      "- Number of heads: 8\n",
      "- Head dimension: 64\n",
      "- Number of layers: 12\n",
      "- Feedforward dimension: 2048\n",
      "- Max sequence length: 128\n"
     ]
    }
   ],
   "source": [
    "# Model configuration\n",
    "d_model = 512   # Embedding dimension (larger for pretraining)\n",
    "n_heads = 8     # Number of attention heads\n",
    "n_layers = 12   # Number of transformer layers (deeper for pretraining)\n",
    "n_groups = 2    # Number of groups for grouped attention\n",
    "head_dim = d_model // n_heads\n",
    "ff_dim = d_model * 4  # Feedforward dimension\n",
    "\n",
    "print(f\"Model Configuration for Language Modeling:\")\n",
    "print(f\"- Vocabulary size: {vocab_size}\")\n",
    "print(f\"- Model dimension: {d_model}\")\n",
    "print(f\"- Number of heads: {n_heads}\")\n",
    "print(f\"- Head dimension: {head_dim}\")\n",
    "print(f\"- Number of layers: {n_layers}\")\n",
    "print(f\"- Feedforward dimension: {ff_dim}\")\n",
    "print(f\"- Max sequence length: {max_len}\")\n"
   ]
  },
  {
   "cell_type": "markdown",
   "metadata": {},
   "source": [
    "### Activation Functions"
   ]
  },
  {
   "cell_type": "code",
   "execution_count": 17,
   "metadata": {},
   "outputs": [
    {
     "name": "stdout",
     "output_type": "stream",
     "text": [
      "Activation functions defined\n"
     ]
    }
   ],
   "source": [
    "def sigmoid(x):\n",
    "    return 1 / (1 + np.exp(-np.clip(x, -500, 500)))\n",
    "\n",
    "def swish(x):\n",
    "    return x * sigmoid(x)\n",
    "\n",
    "def swiglu(x1, x2):\n",
    "    return x2 * swish(x1)\n",
    "\n",
    "def softmax(x, axis=-1):\n",
    "    x = x - np.max(x, axis=axis, keepdims=True)\n",
    "    exp_x = np.exp(x)\n",
    "    return exp_x / np.sum(exp_x, axis=axis, keepdims=True)\n",
    "\n",
    "def rms_norm(x, gamma=1.0, eps=1e-8):\n",
    "    rms = np.sqrt(np.mean(x**2, axis=-1, keepdims=True) + eps)\n",
    "    return gamma * x / rms\n",
    "\n",
    "print(\"Activation functions defined\")"
   ]
  },
  {
   "cell_type": "markdown",
   "metadata": {},
   "source": [
    "### Rotary Position Embedding (RoPE)"
   ]
  },
  {
   "cell_type": "code",
   "execution_count": 18,
   "metadata": {},
   "outputs": [
    {
     "name": "stdout",
     "output_type": "stream",
     "text": [
      "RoPE function defined\n"
     ]
    }
   ],
   "source": [
    "def rope(x, positions):\n",
    "    \"\"\"Apply Rotary Position Embedding\"\"\"\n",
    "    batch_size, seq_len, d = x.shape\n",
    "    result = np.zeros_like(x)\n",
    "\n",
    "    # Pastikan positions dalam shape (seq_len,)\n",
    "    positions = positions.reshape(seq_len)\n",
    "\n",
    "    for i in range(0, d, 2):\n",
    "        if i + 1 < d:\n",
    "            # theta shape: (seq_len, 1)\n",
    "            theta = positions[:, np.newaxis] / (10000 ** (i / d))\n",
    "            cos_theta = np.cos(theta)  # (seq_len, 1)\n",
    "            sin_theta = np.sin(theta)  # (seq_len, 1)\n",
    "\n",
    "            # Broadcast ke (batch_size, seq_len)\n",
    "            cos_theta = np.broadcast_to(cos_theta.T, (batch_size, seq_len))\n",
    "            sin_theta = np.broadcast_to(sin_theta.T, (batch_size, seq_len))\n",
    "\n",
    "            x0 = x[:, :, i]\n",
    "            x1 = x[:, :, i + 1]\n",
    "\n",
    "            result[:, :, i] = x0 * cos_theta - x1 * sin_theta\n",
    "            result[:, :, i + 1] = x0 * sin_theta + x1 * cos_theta\n",
    "        else:\n",
    "            result[:, :, i] = x[:, :, i]\n",
    "\n",
    "    return result\n",
    "\n",
    "print(\"RoPE function defined\")"
   ]
  },
  {
   "cell_type": "markdown",
   "metadata": {},
   "source": [
    "### Multi-Head Attention with Causal Masking"
   ]
  },
  {
   "cell_type": "code",
   "execution_count": 19,
   "metadata": {},
   "outputs": [
    {
     "name": "stdout",
     "output_type": "stream",
     "text": [
      "Causal multi-head attention function defined\n"
     ]
    }
   ],
   "source": [
    "def multi_head_attention(x, wq, wk, wv, wo, attention_mask=None, use_rope=True):\n",
    "    batch_size, seq_len, d_model = x.shape\n",
    "    \n",
    "    # Linear projections\n",
    "    Q = x @ wq.T\n",
    "    K = x @ wk.T\n",
    "    V = x @ wv.T\n",
    "    \n",
    "    # Reshape for multi-head\n",
    "    Q = Q.reshape(batch_size, seq_len, n_heads, head_dim).transpose(0, 2, 1, 3)\n",
    "    K = K.reshape(batch_size, seq_len, n_heads, head_dim).transpose(0, 2, 1, 3)\n",
    "    V = V.reshape(batch_size, seq_len, n_heads, head_dim).transpose(0, 2, 1, 3)\n",
    "    \n",
    "    # Apply RoPE\n",
    "    if use_rope:\n",
    "        positions = np.arange(seq_len)\n",
    "        for head in range(n_heads):\n",
    "            Q[:, head, :, :] = rope(Q[:, head, :, :], positions)\n",
    "            K[:, head, :, :] = rope(K[:, head, :, :], positions)\n",
    "    \n",
    "    # Attention scores\n",
    "    scores = np.matmul(Q, K.transpose(0, 1, 3, 2)) / np.sqrt(head_dim)\n",
    "    \n",
    "    # Create causal mask (lower triangular)\n",
    "    causal_mask = np.triu(np.ones((seq_len, seq_len)), k=1) * -1e9\n",
    "    scores = scores + causal_mask[np.newaxis, np.newaxis, :, :]\n",
    "    \n",
    "    # Apply attention mask if provided\n",
    "    if attention_mask is not None:\n",
    "        # Convert to additive mask\n",
    "        mask = (1 - attention_mask[:, np.newaxis, np.newaxis, :]) * -1e9\n",
    "        scores = scores + mask\n",
    "    \n",
    "    # Softmax\n",
    "    attn_weights = softmax(scores, axis=-1)\n",
    "    \n",
    "    # Apply to values\n",
    "    context = np.matmul(attn_weights, V)\n",
    "    \n",
    "    # Concatenate heads\n",
    "    context = context.transpose(0, 2, 1, 3).reshape(batch_size, seq_len, d_model)\n",
    "    \n",
    "    # Output projection\n",
    "    output = context @ wo.T\n",
    "    \n",
    "    return output, attn_weights\n",
    "\n",
    "print(\"Causal multi-head attention function defined\")"
   ]
  },
  {
   "cell_type": "markdown",
   "metadata": {},
   "source": [
    "### Feedforward Network"
   ]
  },
  {
   "cell_type": "code",
   "execution_count": 20,
   "metadata": {},
   "outputs": [
    {
     "name": "stdout",
     "output_type": "stream",
     "text": [
      "Feedforward function defined\n"
     ]
    }
   ],
   "source": [
    "def feedforward(x, w1, w2, w3):\n",
    "    \"\"\"Feedforward with SwiGLU activation\"\"\"\n",
    "    gate = x @ w1      # Gate\n",
    "    input_proj = x @ w2  # Input projection\n",
    "    hidden = swiglu(gate, input_proj)  # SwiGLU activation\n",
    "    output = hidden @ w3  # Output projection\n",
    "    return output\n",
    "\n",
    "print(\"Feedforward function defined\")"
   ]
  },
  {
   "cell_type": "markdown",
   "metadata": {},
   "source": [
    "### Initialize Model Weights"
   ]
  },
  {
   "cell_type": "code",
   "execution_count": 21,
   "metadata": {},
   "outputs": [
    {
     "name": "stdout",
     "output_type": "stream",
     "text": [
      "Model weights initialized:\n",
      "- Embedding: (391, 512)\n",
      "- Attention layers: 12\n",
      "- Feedforward layers: 12\n",
      "- Language modeling head: (512, 391)\n"
     ]
    }
   ],
   "source": [
    "def init_weights(shape, scale=0.02):\n",
    "    return np.random.randn(*shape) * scale\n",
    "\n",
    "# Embedding layer\n",
    "embedding_matrix = init_weights((vocab_size, d_model))\n",
    "\n",
    "# Transformer layers weights\n",
    "attention_weights = []\n",
    "ff_weights = []\n",
    "\n",
    "for layer in range(n_layers):\n",
    "    # Attention weights\n",
    "    wq = init_weights((d_model, d_model))\n",
    "    wk = init_weights((d_model, d_model))\n",
    "    wv = init_weights((d_model, d_model))\n",
    "    wo = init_weights((d_model, d_model))\n",
    "    attention_weights.append((wq, wk, wv, wo))\n",
    "    \n",
    "    # Feedforward weights\n",
    "    w1 = init_weights((d_model, ff_dim))  # Gate\n",
    "    w2 = init_weights((d_model, ff_dim))  # Input\n",
    "    w3 = init_weights((ff_dim, d_model))  # Output\n",
    "    ff_weights.append((w1, w2, w3))\n",
    "\n",
    "# Language modeling head (predict next token)\n",
    "lm_head_weights = init_weights((d_model, vocab_size))\n",
    "\n",
    "print(f\"Model weights initialized:\")\n",
    "print(f\"- Embedding: {embedding_matrix.shape}\")\n",
    "print(f\"- Attention layers: {len(attention_weights)}\")\n",
    "print(f\"- Feedforward layers: {len(ff_weights)}\")\n",
    "print(f\"- Language modeling head: {lm_head_weights.shape}\")"
   ]
  },
  {
   "cell_type": "markdown",
   "metadata": {},
   "source": [
    "### Feedforward Network"
   ]
  },
  {
   "cell_type": "code",
   "execution_count": 22,
   "metadata": {},
   "outputs": [
    {
     "name": "stdout",
     "output_type": "stream",
     "text": [
      "Feedforward function defined\n"
     ]
    }
   ],
   "source": [
    "def feedforward(x, w1, w2, w3):\n",
    "    \"\"\"Feedforward with SwiGLU activation\"\"\"\n",
    "    gate = x @ w1      # Gate\n",
    "    input_proj = x @ w2  # Input projection\n",
    "    hidden = swiglu(gate, input_proj)  # SwiGLU activation\n",
    "    output = hidden @ w3  # Output projection\n",
    "    return output\n",
    "\n",
    "print(\"Feedforward function defined\")"
   ]
  },
  {
   "cell_type": "markdown",
   "metadata": {},
   "source": [
    "### Initialize Model Weights"
   ]
  },
  {
   "cell_type": "code",
   "execution_count": 23,
   "metadata": {},
   "outputs": [
    {
     "name": "stdout",
     "output_type": "stream",
     "text": [
      "Model weights initialized:\n",
      "- Embedding: (391, 512)\n",
      "- Attention layers: 12\n",
      "- Feedforward layers: 12\n",
      "- Language modeling head: (512, 391)\n"
     ]
    }
   ],
   "source": [
    "def init_weights(shape, scale=0.02):\n",
    "    return np.random.randn(*shape) * scale\n",
    "\n",
    "# Embedding layer\n",
    "embedding_matrix = init_weights((vocab_size, d_model))\n",
    "\n",
    "# Transformer layers weights\n",
    "attention_weights = []\n",
    "ff_weights = []\n",
    "\n",
    "for layer in range(n_layers):\n",
    "    # Attention weights\n",
    "    wq = init_weights((d_model, d_model))\n",
    "    wk = init_weights((d_model, d_model))\n",
    "    wv = init_weights((d_model, d_model))\n",
    "    wo = init_weights((d_model, d_model))\n",
    "    attention_weights.append((wq, wk, wv, wo))\n",
    "    \n",
    "    # Feedforward weights\n",
    "    w1 = init_weights((d_model, ff_dim))  # Gate\n",
    "    w2 = init_weights((d_model, ff_dim))  # Input\n",
    "    w3 = init_weights((ff_dim, d_model))  # Output\n",
    "    ff_weights.append((w1, w2, w3))\n",
    "\n",
    "# Language modeling head (predict next token)\n",
    "lm_head_weights = init_weights((d_model, vocab_size))\n",
    "\n",
    "print(f\"Model weights initialized:\")\n",
    "print(f\"- Embedding: {embedding_matrix.shape}\")\n",
    "print(f\"- Attention layers: {len(attention_weights)}\")\n",
    "print(f\"- Feedforward layers: {len(ff_weights)}\")\n",
    "print(f\"- Language modeling head: {lm_head_weights.shape}\")"
   ]
  },
  {
   "cell_type": "markdown",
   "metadata": {},
   "source": [
    "### Forward Pass for Language Modeling"
   ]
  },
  {
   "cell_type": "code",
   "execution_count": 24,
   "metadata": {},
   "outputs": [
    {
     "name": "stdout",
     "output_type": "stream",
     "text": [
      "Language modeling forward pass function defined\n"
     ]
    }
   ],
   "source": [
    "def transformer_lm_forward(input_ids, attention_mask=None):\n",
    "    batch_size, seq_len = input_ids.shape\n",
    "    \n",
    "    # Embedding\n",
    "    x = embedding_matrix[input_ids]  # (batch, seq, d_model)\n",
    "    \n",
    "    # Pass through transformer layers\n",
    "    for layer in range(n_layers):\n",
    "        # Get layer weights\n",
    "        wq, wk, wv, wo = attention_weights[layer]\n",
    "        w1, w2, w3 = ff_weights[layer]\n",
    "        \n",
    "        # Pre-attention norm\n",
    "        x_norm = rms_norm(x)\n",
    "        \n",
    "        # Self-attention with causal masking\n",
    "        attn_out, _ = multi_head_attention(x_norm, wq, wk, wv, wo, attention_mask)\n",
    "        \n",
    "        # Residual connection\n",
    "        x = x + attn_out\n",
    "        \n",
    "        # Pre-feedforward norm\n",
    "        x_norm = rms_norm(x)\n",
    "        \n",
    "        # Feedforward\n",
    "        ff_out = feedforward(x_norm, w1, w2, w3)\n",
    "        \n",
    "        # Residual connection\n",
    "        x = x + ff_out\n",
    "    \n",
    "    # Final normalization\n",
    "    x = rms_norm(x)\n",
    "    \n",
    "    # Language modeling head - predict next tokens\n",
    "    logits = x @ lm_head_weights  # (batch, seq, vocab_size)\n",
    "    \n",
    "    return logits\n",
    "\n",
    "print(\"Language modeling forward pass function defined\")"
   ]
  },
  {
   "cell_type": "markdown",
   "metadata": {},
   "source": [
    "### Loss Function for Language Modeling"
   ]
  },
  {
   "cell_type": "code",
   "execution_count": 25,
   "metadata": {},
   "outputs": [
    {
     "name": "stdout",
     "output_type": "stream",
     "text": [
      "Language modeling loss functions defined\n"
     ]
    }
   ],
   "source": [
    "def language_modeling_loss(logits, targets, target_mask):\n",
    "    \"\"\"Cross entropy loss for language modeling\"\"\"\n",
    "    batch_size, seq_len, vocab_size = logits.shape\n",
    "    \n",
    "    # Flatten for easier computation\n",
    "    logits_flat = logits.reshape(-1, vocab_size)\n",
    "    targets_flat = targets.reshape(-1)\n",
    "    mask_flat = target_mask.reshape(-1)\n",
    "    \n",
    "    # Only compute loss for non-padded tokens\n",
    "    valid_indices = mask_flat == 1\n",
    "    \n",
    "    if np.sum(valid_indices) == 0:\n",
    "        return 0.0, np.zeros_like(logits_flat)\n",
    "    \n",
    "    valid_logits = logits_flat[valid_indices]\n",
    "    valid_targets = targets_flat[valid_indices]\n",
    "    \n",
    "    # Softmax\n",
    "    probs = softmax(valid_logits, axis=-1)\n",
    "    probs = np.clip(probs, 1e-12, 1 - 1e-12)\n",
    "    \n",
    "    # Cross entropy\n",
    "    loss = -np.mean(np.log(probs[np.arange(len(valid_targets)), valid_targets]))\n",
    "    \n",
    "    return loss, probs\n",
    "\n",
    "def perplexity(loss):\n",
    "    \"\"\"Calculate perplexity from loss\"\"\"\n",
    "    return np.exp(loss)\n",
    "\n",
    "print(\"Language modeling loss functions defined\")"
   ]
  },
  {
   "cell_type": "markdown",
   "metadata": {},
   "source": [
    "### Data Splitting for Pretraining"
   ]
  },
  {
   "cell_type": "code",
   "execution_count": 26,
   "metadata": {},
   "outputs": [
    {
     "name": "stdout",
     "output_type": "stream",
     "text": [
      "Training data: 34 sequences\n",
      "Validation data: 4 sequences\n",
      "Total tokens in training: 1441\n",
      "Training setup for language modeling:\n",
      "- Learning rate: 0.0001\n",
      "- Batch size: 8\n",
      "- Epochs: 5\n",
      "- Batches per epoch: 4\n"
     ]
    }
   ],
   "source": [
    "# Split data into train/validation\n",
    "split_idx = int(0.9 * len(padded_inputs))  # Use more data for training in pretraining\n",
    "\n",
    "train_inputs = padded_inputs[:split_idx]\n",
    "train_targets = padded_targets[:split_idx]\n",
    "train_masks = input_masks[:split_idx]\n",
    "\n",
    "val_inputs = padded_inputs[split_idx:]\n",
    "val_targets = padded_targets[split_idx:]\n",
    "val_masks = input_masks[split_idx:]\n",
    "\n",
    "print(f\"Training data: {train_inputs.shape[0]} sequences\")\n",
    "print(f\"Validation data: {val_inputs.shape[0]} sequences\")\n",
    "print(f\"Total tokens in training: {np.sum(train_masks)}\")\n",
    "\n",
    "# ===== CELL 21: Training Setup for Language Modeling =====\n",
    "# Training hyperparameters\n",
    "learning_rate = 0.0001  # Lower learning rate for pretraining\n",
    "batch_size = 8          # Smaller batch size due to memory constraints\n",
    "num_epochs = 5          # Fewer epochs for demo\n",
    "\n",
    "def create_batches(inputs, targets, masks, batch_size):\n",
    "    n_samples = inputs.shape[0]\n",
    "    indices = np.random.permutation(n_samples)\n",
    "    \n",
    "    batches = []\n",
    "    for i in range(0, n_samples, batch_size):\n",
    "        batch_indices = indices[i:i+batch_size]\n",
    "        batch_inputs = inputs[batch_indices]\n",
    "        batch_targets = targets[batch_indices]\n",
    "        batch_masks = masks[batch_indices]\n",
    "        batches.append((batch_inputs, batch_targets, batch_masks))\n",
    "    \n",
    "    return batches\n",
    "\n",
    "print(f\"Training setup for language modeling:\")\n",
    "print(f\"- Learning rate: {learning_rate}\")\n",
    "print(f\"- Batch size: {batch_size}\")\n",
    "print(f\"- Epochs: {num_epochs}\")\n",
    "print(f\"- Batches per epoch: {len(train_inputs) // batch_size}\")"
   ]
  },
  {
   "cell_type": "markdown",
   "metadata": {},
   "source": [
    "### Training Loop for Language Modeling"
   ]
  },
  {
   "cell_type": "code",
   "execution_count": 27,
   "metadata": {},
   "outputs": [
    {
     "name": "stdout",
     "output_type": "stream",
     "text": [
      "Starting language model pretraining...\n",
      "Epoch 1, Batch 0, Loss: 6.0960, Perplexity: 444.06\n",
      "Epoch 1/5:\n",
      "  Train Loss: 6.1051, Train Perplexity: 448.13\n",
      "  Val Loss: 6.1393, Val Perplexity: 463.74\n",
      "------------------------------------------------------------\n",
      "Epoch 2, Batch 0, Loss: 6.1392, Perplexity: 463.66\n",
      "Epoch 2/5:\n",
      "  Train Loss: 6.1065, Train Perplexity: 448.78\n",
      "  Val Loss: 6.1393, Val Perplexity: 463.74\n",
      "------------------------------------------------------------\n",
      "Epoch 3, Batch 0, Loss: 6.0905, Perplexity: 441.62\n",
      "Epoch 3/5:\n",
      "  Train Loss: 6.1127, Train Perplexity: 451.56\n",
      "  Val Loss: 6.1393, Val Perplexity: 463.74\n",
      "------------------------------------------------------------\n",
      "Epoch 4, Batch 0, Loss: 6.1139, Perplexity: 452.08\n",
      "Epoch 4/5:\n",
      "  Train Loss: 6.1113, Train Perplexity: 450.93\n",
      "  Val Loss: 6.1393, Val Perplexity: 463.74\n",
      "------------------------------------------------------------\n",
      "Epoch 5, Batch 0, Loss: 6.1062, Perplexity: 448.65\n",
      "Epoch 5/5:\n",
      "  Train Loss: 6.1271, Train Perplexity: 458.10\n",
      "  Val Loss: 6.1393, Val Perplexity: 463.74\n",
      "------------------------------------------------------------\n",
      "Language model pretraining completed!\n"
     ]
    }
   ],
   "source": [
    "train_losses = []\n",
    "val_losses = []\n",
    "train_perplexities = []\n",
    "val_perplexities = []\n",
    "\n",
    "print(\"Starting language model pretraining...\")\n",
    "\n",
    "for epoch in range(num_epochs):\n",
    "    # Training\n",
    "    train_batches = create_batches(train_inputs, train_targets, train_masks, batch_size)\n",
    "    \n",
    "    epoch_train_loss = 0\n",
    "    \n",
    "    for batch_idx, (batch_inputs, batch_targets, batch_masks) in enumerate(train_batches):\n",
    "        # Forward pass\n",
    "        logits = transformer_lm_forward(batch_inputs, batch_masks)\n",
    "        \n",
    "        # Compute loss\n",
    "        loss, _ = language_modeling_loss(logits, batch_targets, batch_masks)\n",
    "        epoch_train_loss += loss\n",
    "        \n",
    "        if batch_idx % 20 == 0:\n",
    "            ppl = perplexity(loss)\n",
    "            print(f\"Epoch {epoch+1}, Batch {batch_idx}, Loss: {loss:.4f}, Perplexity: {ppl:.2f}\")\n",
    "    \n",
    "    # Average training metrics\n",
    "    avg_train_loss = epoch_train_loss / len(train_batches)\n",
    "    train_ppl = perplexity(avg_train_loss)\n",
    "    \n",
    "    # Validation\n",
    "    val_logits = transformer_lm_forward(val_inputs, val_masks)\n",
    "    val_loss, _ = language_modeling_loss(val_logits, val_targets, val_masks)\n",
    "    val_ppl = perplexity(val_loss)\n",
    "    \n",
    "    # Store metrics\n",
    "    train_losses.append(avg_train_loss)\n",
    "    val_losses.append(val_loss)\n",
    "    train_perplexities.append(train_ppl)\n",
    "    val_perplexities.append(val_ppl)\n",
    "    \n",
    "    print(f\"Epoch {epoch+1}/{num_epochs}:\")\n",
    "    print(f\"  Train Loss: {avg_train_loss:.4f}, Train Perplexity: {train_ppl:.2f}\")\n",
    "    print(f\"  Val Loss: {val_loss:.4f}, Val Perplexity: {val_ppl:.2f}\")\n",
    "    print(\"-\" * 60)\n",
    "\n",
    "print(\"Language model pretraining completed!\")"
   ]
  },
  {
   "cell_type": "markdown",
   "metadata": {},
   "source": [
    "### Plot Training Results"
   ]
  },
  {
   "cell_type": "code",
   "execution_count": 28,
   "metadata": {},
   "outputs": [
    {
     "data": {
      "image/png": "[encoded data removed]",
      "text/plain": [
       "<Figure size 1500x500 with 3 Axes>"
      ]
     },
     "metadata": {},
     "output_type": "display_data"
    },
    {
     "name": "stdout",
     "output_type": "stream",
     "text": [
      "Final Results:\n",
      "- Final Train Perplexity: 458.10\n",
      "- Final Validation Perplexity: 463.74\n",
      "- Best Validation Perplexity: 463.74\n"
     ]
    }
   ],
   "source": [
    "plt.figure(figsize=(15, 5))\n",
    "\n",
    "# Plot losses\n",
    "plt.subplot(1, 3, 1)\n",
    "plt.plot(train_losses, label='Train Loss', marker='o')\n",
    "plt.plot(val_losses, label='Val Loss', marker='s')\n",
    "plt.title('Training and Validation Loss')\n",
    "plt.xlabel('Epoch')\n",
    "plt.ylabel('Loss')\n",
    "plt.legend()\n",
    "plt.grid(True)\n",
    "\n",
    "# Plot perplexities\n",
    "plt.subplot(1, 3, 2)\n",
    "plt.plot(train_perplexities, label='Train Perplexity', marker='o')\n",
    "plt.plot(val_perplexities, label='Val Perplexity', marker='s')\n",
    "plt.title('Training and Validation Perplexity')\n",
    "plt.xlabel('Epoch')\n",
    "plt.ylabel('Perplexity')\n",
    "plt.legend()\n",
    "plt.grid(True)\n",
    "\n",
    "# Plot learning curve\n",
    "plt.subplot(1, 3, 3)\n",
    "plt.plot(range(1, len(train_losses) + 1), train_losses)\n",
    "plt.title('Training Loss Over Time')\n",
    "plt.xlabel('Epoch')\n",
    "plt.ylabel('Loss')\n",
    "plt.grid(True)\n",
    "\n",
    "plt.tight_layout()\n",
    "plt.show()\n",
    "\n",
    "print(f\"Final Results:\")\n",
    "print(f\"- Final Train Perplexity: {train_perplexities[-1]:.2f}\")\n",
    "print(f\"- Final Validation Perplexity: {val_perplexities[-1]:.2f}\")\n",
    "print(f\"- Best Validation Perplexity: {min(val_perplexities):.2f}\")"
   ]
  },
  {
   "cell_type": "markdown",
   "metadata": {},
   "source": [
    "### Text Generation Function"
   ]
  },
  {
   "cell_type": "code",
   "execution_count": 29,
   "metadata": {},
   "outputs": [],
   "source": [
    "def generate_text(prompt, max_length=50, temperature=1.0):\n",
    "    \"\"\"Generate text using the trained language model\"\"\"\n",
    "    # Encode prompt\n",
    "    words = prompt.lower().split()\n",
    "    prompt_tokens = [vocab[\"[BOS]\"]]\n",
    "    for word in words:\n",
    "        prompt_tokens.extend(encode_word(word, vocab, merges))\n",
    "    \n",
    "    generated_tokens = prompt_tokens.copy()\n",
    "    \n",
    "    for _ in range(max_length):\n",
    "        # Prepare input (last max_len tokens)\n",
    "        input_tokens = generated_tokens[-max_len:]\n",
    "        input_array = np.array([input_tokens + [vocab[\"[PAD]\"]] * (max_len - len(input_tokens))])\n",
    "        attention_mask = np.array([([1] * len(input_tokens) + [0] * (max_len - len(input_tokens)))])\n",
    "        \n",
    "        # Forward pass\n",
    "        logits = transformer_lm_forward(input_array, attention_mask)\n",
    "        \n",
    "        # Get logits for next token (last non-padded position)\n",
    "        next_token_logits = logits[0, len(input_tokens) - 1, :] / temperature\n",
    "        \n",
    "        # Sample next token\n",
    "        probs = softmax(next_token_logits)\n",
    "        next_token = np.random.choice(vocab_size, p=probs)\n",
    "        \n",
    "        # Stop if EOS token\n",
    "        if next_token == vocab[\"[EOS]\"]:\n",
    "            break\n",
    "            \n",
    "        generated_tokens.append(next_token)\n",
    "    \n",
    "    # Decode tokens back to text (simplified)\n",
    "    reverse_vocab = {v: k for k, v in vocab.items()}\n",
    "    generated_text = []\n",
    "    \n",
    "    for token_id in generated_tokens[len(prompt_tokens):]:\n",
    "        if token_id in reverse_vocab:\n",
    "            token = reverse_vocab[token_id]\n",
    "            if token not in [\"[BOS]\", \"[EOS]\", \"[PAD]\", \"[UNK]\"]:\n",
    "                generated_text.append(token.replace(\"</w>\", \" \"))\n",
    "    \n",
    "    return \"\".join(generated_text).strip()"
   ]
  },
  {
   "cell_type": "code",
   "execution_count": null,
   "metadata": {},
   "outputs": [
    {
     "name": "stdout",
     "output_type": "stream",
     "text": [
      "Testing text generation:\n",
      "Prompt: 'the weather is'\n",
      "Generated: 'ods attracted one not ali6 mecallour ymca yhiing tilealisofrom mana'\n",
      "----------------------------------------\n",
      "Prompt: 'i think that'\n",
      "Generated: 'ical goted leadequinto workelcompassion , ouear185hpartthat precds'\n",
      "----------------------------------------\n",
      "Prompt: 'machine learning'\n",
      "Generated: 'obed evting treorganisfoundtionmes tionf inkuntil evangelted'\n",
      "----------------------------------------\n"
     ]
    }
   ],
   "source": [
    "# Test text generation\n",
    "test_prompts = [\n",
    "    \"the weather is\",\n",
    "    \"i think that\",\n",
    "    \"machine learning\"\n",
    "]\n",
    "\n",
    "print(\"Testing text generation:\")\n",
    "for prompt in test_prompts:\n",
    "    generated = generate_text(prompt, max_length=20, temperature=0.8)\n",
    "    print(f\"Prompt: '{prompt}'\")\n",
    "    print(f\"Generated: '{generated}'\")\n",
    "    print(\"-\" * 40)"
   ]
  },
  {
   "cell_type": "markdown",
   "metadata": {},
   "source": [
    "### Save Pretrained Model"
   ]
  },
  {
   "cell_type": "code",
   "execution_count": 31,
   "metadata": {},
   "outputs": [
    {
     "name": "stdout",
     "output_type": "stream",
     "text": [
      "Model saved successfully to 'simple_llama_model.pkl'\n"
     ]
    }
   ],
   "source": [
    "# Save complete model state\n",
    "pretrained_model = {\n",
    "    'vocab': vocab,\n",
    "    'merges': merges,\n",
    "    'embedding_matrix': embedding_matrix,\n",
    "    'attention_weights': attention_weights,\n",
    "    'ff_weights': ff_weights,\n",
    "    'lm_head_weights': lm_head_weights,\n",
    "    'config': {\n",
    "        'd_model': d_model,\n",
    "        'n_heads': n_heads,\n",
    "        'n_layers': n_layers,\n",
    "        'n_groups': n_groups,\n",
    "        'max_len': max_len,\n",
    "        'vocab_size': vocab_size,\n",
    "        'head_dim': head_dim,\n",
    "        'ff_dim': ff_dim\n",
    "    },\n",
    "    'training_history': {\n",
    "        'train_losses': train_losses,\n",
    "        'val_losses': val_losses,\n",
    "        'train_perplexities': train_perplexities,\n",
    "        'val_perplexities': val_perplexities\n",
    "    },\n",
    "    'corpus_stats': {\n",
    "        'total_sentences': len(corpus),\n",
    "        'total_tokens': sum(len(sent) for sent in encoded_corpus)\n",
    "    }\n",
    "}\n",
    "\n",
    "# Save to file\n",
    "import pickle\n",
    "\n",
    "with open(\"simple_llama_model.pkl\", \"wb\") as f:\n",
    "    pickle.dump(pretrained_model, f)\n",
    "\n",
    "print(\"Model saved successfully to 'simple_llama_model.pkl'\")"
   ]
  },
  {
   "cell_type": "code",
   "execution_count": null,
   "metadata": {},
   "outputs": [],
   "source": []
  }
 ],
 "metadata": {
  "kernelspec": {
   "display_name": "Python (myenv)",
   "language": "python",
   "name": "myenv"
  },
  "language_info": {
   "codemirror_mode": {
    "name": "ipython",
    "version": 3
   },
   "file_extension": ".py",
   "mimetype": "text/x-python",
   "name": "python",
   "nbconvert_exporter": "python",
   "pygments_lexer": "ipython3",
   "version": "3.13.3"
  }
 },
 "nbformat": 4,
 "nbformat_minor": 2
}
